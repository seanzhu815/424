{
  "nbformat": 4,
  "nbformat_minor": 0,
  "metadata": {
    "colab": {
      "provenance": [],
      "include_colab_link": true
    },
    "kernelspec": {
      "name": "python3",
      "display_name": "Python 3"
    },
    "language_info": {
      "name": "python"
    }
  },
  "cells": [
    {
      "cell_type": "markdown",
      "metadata": {
        "id": "view-in-github",
        "colab_type": "text"
      },
      "source": [
        "<a href=\"https://colab.research.google.com/github/seanzhu815/424/blob/main/HomeWork1.ipynb\" target=\"_parent\"><img src=\"https://colab.research.google.com/assets/colab-badge.svg\" alt=\"Open In Colab\"/></a>"
      ]
    },
    {
      "cell_type": "code",
      "execution_count": null,
      "metadata": {
        "id": "vadHJNq3tW4k"
      },
      "outputs": [],
      "source": [
        "import numpy as np\n",
        "import pandas as pd\n",
        "import matplotlib.pyplot as plt\n",
        "%matplotlib inline\n",
        "\n",
        "# import other libraries as needed"
      ]
    },
    {
      "cell_type": "code",
      "source": [
        "# downloading all the data files needed for the assignments. \n",
        "!gdown --id 1AfLZ19RAOlijajvTPCK_XqAGfmb7hAvu # customer_data.csv\n",
        "\n",
        "!gdown --id 1tfCt4w_5XkM0FGV3-oWxSdnydDv9M0cZ # customer_data_train.csv\n",
        "\n",
        "!gdown --id 1-Cx0PW2sPY_c96EtXmUXlNcIwcJB5gM8 # customer_data_train_labels.csv\n",
        "\n",
        "!gdown --id 1dTGNqm3KawCcp-IWtAknCf5b8XPXT0-Z # customer_data_valid.csv\n",
        "\n",
        "!gdown --id 18pqZOte1Ppcz4R1gxEUW83BLQ2nMJi5M # customer_data_valid_labels.csv\n",
        "\n",
        "!gdown --id 1wAJu-vYmLFmsGG4yhjNKV2LOIQ0PmJWt # customer_data_test.csv\n",
        "\n",
        "!gdown --id 1jsw5FbMCQG1JdToN4uqSfPZCz9Ix18_R # customer_data_test_labels.csv"
      ],
      "metadata": {
        "id": "BbOoJm5_tjZr",
        "colab": {
          "base_uri": "https://localhost:8080/"
        },
        "outputId": "28fdf2e2-7fdd-491e-d7bd-fc9642f98837"
      },
      "execution_count": null,
      "outputs": [
        {
          "output_type": "stream",
          "name": "stdout",
          "text": [
            "/usr/local/lib/python3.9/dist-packages/gdown/cli.py:121: FutureWarning: Option `--id` was deprecated in version 4.3.1 and will be removed in 5.0. You don't need to pass it anymore to use a file ID.\n",
            "  warnings.warn(\n",
            "Downloading...\n",
            "From: https://drive.google.com/uc?id=1AfLZ19RAOlijajvTPCK_XqAGfmb7hAvu\n",
            "To: /content/customer_data.csv\n",
            "100% 56.1k/56.1k [00:00<00:00, 65.2MB/s]\n",
            "/usr/local/lib/python3.9/dist-packages/gdown/cli.py:121: FutureWarning: Option `--id` was deprecated in version 4.3.1 and will be removed in 5.0. You don't need to pass it anymore to use a file ID.\n",
            "  warnings.warn(\n",
            "Downloading...\n",
            "From: https://drive.google.com/uc?id=1tfCt4w_5XkM0FGV3-oWxSdnydDv9M0cZ\n",
            "To: /content/customer_data_train.csv\n",
            "100% 42.7k/42.7k [00:00<00:00, 23.7MB/s]\n",
            "/usr/local/lib/python3.9/dist-packages/gdown/cli.py:121: FutureWarning: Option `--id` was deprecated in version 4.3.1 and will be removed in 5.0. You don't need to pass it anymore to use a file ID.\n",
            "  warnings.warn(\n",
            "Downloading...\n",
            "From: https://drive.google.com/uc?id=1-Cx0PW2sPY_c96EtXmUXlNcIwcJB5gM8\n",
            "To: /content/customer_data_train_labels.csv\n",
            "100% 5.64k/5.64k [00:00<00:00, 11.8MB/s]\n",
            "/usr/local/lib/python3.9/dist-packages/gdown/cli.py:121: FutureWarning: Option `--id` was deprecated in version 4.3.1 and will be removed in 5.0. You don't need to pass it anymore to use a file ID.\n",
            "  warnings.warn(\n",
            "Downloading...\n",
            "From: https://drive.google.com/uc?id=1dTGNqm3KawCcp-IWtAknCf5b8XPXT0-Z\n",
            "To: /content/customer_data_valid.csv\n",
            "100% 10.7k/10.7k [00:00<00:00, 20.8MB/s]\n",
            "/usr/local/lib/python3.9/dist-packages/gdown/cli.py:121: FutureWarning: Option `--id` was deprecated in version 4.3.1 and will be removed in 5.0. You don't need to pass it anymore to use a file ID.\n",
            "  warnings.warn(\n",
            "Downloading...\n",
            "From: https://drive.google.com/uc?id=18pqZOte1Ppcz4R1gxEUW83BLQ2nMJi5M\n",
            "To: /content/customer_data_valid_labels.csv\n",
            "100% 1.41k/1.41k [00:00<00:00, 3.65MB/s]\n",
            "/usr/local/lib/python3.9/dist-packages/gdown/cli.py:121: FutureWarning: Option `--id` was deprecated in version 4.3.1 and will be removed in 5.0. You don't need to pass it anymore to use a file ID.\n",
            "  warnings.warn(\n",
            "Downloading...\n",
            "From: https://drive.google.com/uc?id=1wAJu-vYmLFmsGG4yhjNKV2LOIQ0PmJWt\n",
            "To: /content/customer_data_test.csv\n",
            "100% 13.4k/13.4k [00:00<00:00, 21.3MB/s]\n",
            "/usr/local/lib/python3.9/dist-packages/gdown/cli.py:121: FutureWarning: Option `--id` was deprecated in version 4.3.1 and will be removed in 5.0. You don't need to pass it anymore to use a file ID.\n",
            "  warnings.warn(\n",
            "Downloading...\n",
            "From: https://drive.google.com/uc?id=1jsw5FbMCQG1JdToN4uqSfPZCz9Ix18_R\n",
            "To: /content/customer_data_test_labels.csv\n",
            "100% 1.78k/1.78k [00:00<00:00, 1.58MB/s]\n"
          ]
        }
      ]
    },
    {
      "cell_type": "markdown",
      "source": [
        "# Data Preprocessing"
      ],
      "metadata": {
        "id": "ajPUPxU6uJAO"
      }
    },
    {
      "cell_type": "code",
      "source": [
        "raw_data = pd.read_csv('customer_data.csv')"
      ],
      "metadata": {
        "id": "6vclp7RkxDz9"
      },
      "execution_count": null,
      "outputs": []
    },
    {
      "cell_type": "markdown",
      "source": [
        "### Question-1"
      ],
      "metadata": {
        "id": "NYxW2MvAu589"
      }
    },
    {
      "cell_type": "code",
      "source": [
        "raw_data "
      ],
      "metadata": {
        "colab": {
          "base_uri": "https://localhost:8080/",
          "height": 423
        },
        "id": "8whL9VcFE9dn",
        "outputId": "4f198885-ae2a-4361-f589-894beb791f1f"
      },
      "execution_count": null,
      "outputs": [
        {
          "output_type": "execute_result",
          "data": {
            "text/plain": [
              "      label        id  fea_1   fea_2  fea_3     fea_4  fea_5  fea_6  fea_7  \\\n",
              "0       0.0  59004779    4.0  1277.0    1.0  113000.0    2.0    8.0   -1.0   \n",
              "1       0.0  58990862    7.0  1298.0    1.0  110000.0    2.0   11.0   -1.0   \n",
              "2       1.0  58995168    7.0  1335.5    1.0  151000.0    2.0   11.0    5.0   \n",
              "3       0.0  54987320    7.0     NaN    2.0   59000.0    2.0   11.0    5.0   \n",
              "4       0.0  59005995    6.0  1217.0    3.0   56000.0    2.0    6.0   -1.0   \n",
              "...     ...       ...    ...     ...    ...       ...    ...    ...    ...   \n",
              "1119    0.0  58988196    5.0  1289.0    1.0  173000.0    2.0   15.0    5.0   \n",
              "1120    0.0  58987926    5.0     NaN    2.0   50000.0    2.0   15.0    5.0   \n",
              "1121    0.0  58995381    7.0  1220.0    3.0   76000.0    2.0   11.0    2.0   \n",
              "1122    0.0  58998054    4.0  1250.0    3.0  137000.0    2.0    8.0    5.0   \n",
              "1123    0.0  54989781    4.0  1415.0    3.0   93000.0    2.0    8.0    5.0   \n",
              "\n",
              "      fea_8  fea_9    fea_10      fea_11  \n",
              "0     100.0    3.0  341759.0  207.173840  \n",
              "1     101.0    5.0   72001.0         NaN  \n",
              "2     110.0    3.0   60084.0         NaN  \n",
              "3     108.0    4.0  450081.0  197.403141  \n",
              "4     100.0    3.0   60091.0         NaN  \n",
              "...     ...    ...       ...         ...  \n",
              "1119  112.0    3.0  350702.0         NaN  \n",
              "1120  108.0    4.0  450000.0         NaN  \n",
              "1121   90.0    5.0   71002.0         NaN  \n",
              "1122   90.0    5.0   72000.0         NaN  \n",
              "1123  113.0    4.0  151300.0         NaN  \n",
              "\n",
              "[1124 rows x 13 columns]"
            ],
            "text/html": [
              "\n",
              "  <div id=\"df-4e0167f2-7815-4a99-8929-b74d9a6508e3\">\n",
              "    <div class=\"colab-df-container\">\n",
              "      <div>\n",
              "<style scoped>\n",
              "    .dataframe tbody tr th:only-of-type {\n",
              "        vertical-align: middle;\n",
              "    }\n",
              "\n",
              "    .dataframe tbody tr th {\n",
              "        vertical-align: top;\n",
              "    }\n",
              "\n",
              "    .dataframe thead th {\n",
              "        text-align: right;\n",
              "    }\n",
              "</style>\n",
              "<table border=\"1\" class=\"dataframe\">\n",
              "  <thead>\n",
              "    <tr style=\"text-align: right;\">\n",
              "      <th></th>\n",
              "      <th>label</th>\n",
              "      <th>id</th>\n",
              "      <th>fea_1</th>\n",
              "      <th>fea_2</th>\n",
              "      <th>fea_3</th>\n",
              "      <th>fea_4</th>\n",
              "      <th>fea_5</th>\n",
              "      <th>fea_6</th>\n",
              "      <th>fea_7</th>\n",
              "      <th>fea_8</th>\n",
              "      <th>fea_9</th>\n",
              "      <th>fea_10</th>\n",
              "      <th>fea_11</th>\n",
              "    </tr>\n",
              "  </thead>\n",
              "  <tbody>\n",
              "    <tr>\n",
              "      <th>0</th>\n",
              "      <td>0.0</td>\n",
              "      <td>59004779</td>\n",
              "      <td>4.0</td>\n",
              "      <td>1277.0</td>\n",
              "      <td>1.0</td>\n",
              "      <td>113000.0</td>\n",
              "      <td>2.0</td>\n",
              "      <td>8.0</td>\n",
              "      <td>-1.0</td>\n",
              "      <td>100.0</td>\n",
              "      <td>3.0</td>\n",
              "      <td>341759.0</td>\n",
              "      <td>207.173840</td>\n",
              "    </tr>\n",
              "    <tr>\n",
              "      <th>1</th>\n",
              "      <td>0.0</td>\n",
              "      <td>58990862</td>\n",
              "      <td>7.0</td>\n",
              "      <td>1298.0</td>\n",
              "      <td>1.0</td>\n",
              "      <td>110000.0</td>\n",
              "      <td>2.0</td>\n",
              "      <td>11.0</td>\n",
              "      <td>-1.0</td>\n",
              "      <td>101.0</td>\n",
              "      <td>5.0</td>\n",
              "      <td>72001.0</td>\n",
              "      <td>NaN</td>\n",
              "    </tr>\n",
              "    <tr>\n",
              "      <th>2</th>\n",
              "      <td>1.0</td>\n",
              "      <td>58995168</td>\n",
              "      <td>7.0</td>\n",
              "      <td>1335.5</td>\n",
              "      <td>1.0</td>\n",
              "      <td>151000.0</td>\n",
              "      <td>2.0</td>\n",
              "      <td>11.0</td>\n",
              "      <td>5.0</td>\n",
              "      <td>110.0</td>\n",
              "      <td>3.0</td>\n",
              "      <td>60084.0</td>\n",
              "      <td>NaN</td>\n",
              "    </tr>\n",
              "    <tr>\n",
              "      <th>3</th>\n",
              "      <td>0.0</td>\n",
              "      <td>54987320</td>\n",
              "      <td>7.0</td>\n",
              "      <td>NaN</td>\n",
              "      <td>2.0</td>\n",
              "      <td>59000.0</td>\n",
              "      <td>2.0</td>\n",
              "      <td>11.0</td>\n",
              "      <td>5.0</td>\n",
              "      <td>108.0</td>\n",
              "      <td>4.0</td>\n",
              "      <td>450081.0</td>\n",
              "      <td>197.403141</td>\n",
              "    </tr>\n",
              "    <tr>\n",
              "      <th>4</th>\n",
              "      <td>0.0</td>\n",
              "      <td>59005995</td>\n",
              "      <td>6.0</td>\n",
              "      <td>1217.0</td>\n",
              "      <td>3.0</td>\n",
              "      <td>56000.0</td>\n",
              "      <td>2.0</td>\n",
              "      <td>6.0</td>\n",
              "      <td>-1.0</td>\n",
              "      <td>100.0</td>\n",
              "      <td>3.0</td>\n",
              "      <td>60091.0</td>\n",
              "      <td>NaN</td>\n",
              "    </tr>\n",
              "    <tr>\n",
              "      <th>...</th>\n",
              "      <td>...</td>\n",
              "      <td>...</td>\n",
              "      <td>...</td>\n",
              "      <td>...</td>\n",
              "      <td>...</td>\n",
              "      <td>...</td>\n",
              "      <td>...</td>\n",
              "      <td>...</td>\n",
              "      <td>...</td>\n",
              "      <td>...</td>\n",
              "      <td>...</td>\n",
              "      <td>...</td>\n",
              "      <td>...</td>\n",
              "    </tr>\n",
              "    <tr>\n",
              "      <th>1119</th>\n",
              "      <td>0.0</td>\n",
              "      <td>58988196</td>\n",
              "      <td>5.0</td>\n",
              "      <td>1289.0</td>\n",
              "      <td>1.0</td>\n",
              "      <td>173000.0</td>\n",
              "      <td>2.0</td>\n",
              "      <td>15.0</td>\n",
              "      <td>5.0</td>\n",
              "      <td>112.0</td>\n",
              "      <td>3.0</td>\n",
              "      <td>350702.0</td>\n",
              "      <td>NaN</td>\n",
              "    </tr>\n",
              "    <tr>\n",
              "      <th>1120</th>\n",
              "      <td>0.0</td>\n",
              "      <td>58987926</td>\n",
              "      <td>5.0</td>\n",
              "      <td>NaN</td>\n",
              "      <td>2.0</td>\n",
              "      <td>50000.0</td>\n",
              "      <td>2.0</td>\n",
              "      <td>15.0</td>\n",
              "      <td>5.0</td>\n",
              "      <td>108.0</td>\n",
              "      <td>4.0</td>\n",
              "      <td>450000.0</td>\n",
              "      <td>NaN</td>\n",
              "    </tr>\n",
              "    <tr>\n",
              "      <th>1121</th>\n",
              "      <td>0.0</td>\n",
              "      <td>58995381</td>\n",
              "      <td>7.0</td>\n",
              "      <td>1220.0</td>\n",
              "      <td>3.0</td>\n",
              "      <td>76000.0</td>\n",
              "      <td>2.0</td>\n",
              "      <td>11.0</td>\n",
              "      <td>2.0</td>\n",
              "      <td>90.0</td>\n",
              "      <td>5.0</td>\n",
              "      <td>71002.0</td>\n",
              "      <td>NaN</td>\n",
              "    </tr>\n",
              "    <tr>\n",
              "      <th>1122</th>\n",
              "      <td>0.0</td>\n",
              "      <td>58998054</td>\n",
              "      <td>4.0</td>\n",
              "      <td>1250.0</td>\n",
              "      <td>3.0</td>\n",
              "      <td>137000.0</td>\n",
              "      <td>2.0</td>\n",
              "      <td>8.0</td>\n",
              "      <td>5.0</td>\n",
              "      <td>90.0</td>\n",
              "      <td>5.0</td>\n",
              "      <td>72000.0</td>\n",
              "      <td>NaN</td>\n",
              "    </tr>\n",
              "    <tr>\n",
              "      <th>1123</th>\n",
              "      <td>0.0</td>\n",
              "      <td>54989781</td>\n",
              "      <td>4.0</td>\n",
              "      <td>1415.0</td>\n",
              "      <td>3.0</td>\n",
              "      <td>93000.0</td>\n",
              "      <td>2.0</td>\n",
              "      <td>8.0</td>\n",
              "      <td>5.0</td>\n",
              "      <td>113.0</td>\n",
              "      <td>4.0</td>\n",
              "      <td>151300.0</td>\n",
              "      <td>NaN</td>\n",
              "    </tr>\n",
              "  </tbody>\n",
              "</table>\n",
              "<p>1124 rows × 13 columns</p>\n",
              "</div>\n",
              "      <button class=\"colab-df-convert\" onclick=\"convertToInteractive('df-4e0167f2-7815-4a99-8929-b74d9a6508e3')\"\n",
              "              title=\"Convert this dataframe to an interactive table.\"\n",
              "              style=\"display:none;\">\n",
              "        \n",
              "  <svg xmlns=\"http://www.w3.org/2000/svg\" height=\"24px\"viewBox=\"0 0 24 24\"\n",
              "       width=\"24px\">\n",
              "    <path d=\"M0 0h24v24H0V0z\" fill=\"none\"/>\n",
              "    <path d=\"M18.56 5.44l.94 2.06.94-2.06 2.06-.94-2.06-.94-.94-2.06-.94 2.06-2.06.94zm-11 1L8.5 8.5l.94-2.06 2.06-.94-2.06-.94L8.5 2.5l-.94 2.06-2.06.94zm10 10l.94 2.06.94-2.06 2.06-.94-2.06-.94-.94-2.06-.94 2.06-2.06.94z\"/><path d=\"M17.41 7.96l-1.37-1.37c-.4-.4-.92-.59-1.43-.59-.52 0-1.04.2-1.43.59L10.3 9.45l-7.72 7.72c-.78.78-.78 2.05 0 2.83L4 21.41c.39.39.9.59 1.41.59.51 0 1.02-.2 1.41-.59l7.78-7.78 2.81-2.81c.8-.78.8-2.07 0-2.86zM5.41 20L4 18.59l7.72-7.72 1.47 1.35L5.41 20z\"/>\n",
              "  </svg>\n",
              "      </button>\n",
              "      \n",
              "  <style>\n",
              "    .colab-df-container {\n",
              "      display:flex;\n",
              "      flex-wrap:wrap;\n",
              "      gap: 12px;\n",
              "    }\n",
              "\n",
              "    .colab-df-convert {\n",
              "      background-color: #E8F0FE;\n",
              "      border: none;\n",
              "      border-radius: 50%;\n",
              "      cursor: pointer;\n",
              "      display: none;\n",
              "      fill: #1967D2;\n",
              "      height: 32px;\n",
              "      padding: 0 0 0 0;\n",
              "      width: 32px;\n",
              "    }\n",
              "\n",
              "    .colab-df-convert:hover {\n",
              "      background-color: #E2EBFA;\n",
              "      box-shadow: 0px 1px 2px rgba(60, 64, 67, 0.3), 0px 1px 3px 1px rgba(60, 64, 67, 0.15);\n",
              "      fill: #174EA6;\n",
              "    }\n",
              "\n",
              "    [theme=dark] .colab-df-convert {\n",
              "      background-color: #3B4455;\n",
              "      fill: #D2E3FC;\n",
              "    }\n",
              "\n",
              "    [theme=dark] .colab-df-convert:hover {\n",
              "      background-color: #434B5C;\n",
              "      box-shadow: 0px 1px 3px 1px rgba(0, 0, 0, 0.15);\n",
              "      filter: drop-shadow(0px 1px 2px rgba(0, 0, 0, 0.3));\n",
              "      fill: #FFFFFF;\n",
              "    }\n",
              "  </style>\n",
              "\n",
              "      <script>\n",
              "        const buttonEl =\n",
              "          document.querySelector('#df-4e0167f2-7815-4a99-8929-b74d9a6508e3 button.colab-df-convert');\n",
              "        buttonEl.style.display =\n",
              "          google.colab.kernel.accessAllowed ? 'block' : 'none';\n",
              "\n",
              "        async function convertToInteractive(key) {\n",
              "          const element = document.querySelector('#df-4e0167f2-7815-4a99-8929-b74d9a6508e3');\n",
              "          const dataTable =\n",
              "            await google.colab.kernel.invokeFunction('convertToInteractive',\n",
              "                                                     [key], {});\n",
              "          if (!dataTable) return;\n",
              "\n",
              "          const docLinkHtml = 'Like what you see? Visit the ' +\n",
              "            '<a target=\"_blank\" href=https://colab.research.google.com/notebooks/data_table.ipynb>data table notebook</a>'\n",
              "            + ' to learn more about interactive tables.';\n",
              "          element.innerHTML = '';\n",
              "          dataTable['output_type'] = 'display_data';\n",
              "          await google.colab.output.renderOutput(dataTable, element);\n",
              "          const docLink = document.createElement('div');\n",
              "          docLink.innerHTML = docLinkHtml;\n",
              "          element.appendChild(docLink);\n",
              "        }\n",
              "      </script>\n",
              "    </div>\n",
              "  </div>\n",
              "  "
            ]
          },
          "metadata": {},
          "execution_count": 13
        }
      ]
    },
    {
      "cell_type": "code",
      "source": [
        "raw_data =raw_data.dropna(subset=['label'])"
      ],
      "metadata": {
        "id": "-ue0xkWytu9c"
      },
      "execution_count": null,
      "outputs": []
    },
    {
      "cell_type": "code",
      "source": [
        "raw_data_1=raw_data.dropna(thresh=7) "
      ],
      "metadata": {
        "id": "p8zSz_DqFGez"
      },
      "execution_count": null,
      "outputs": []
    },
    {
      "cell_type": "code",
      "source": [
        "raw_data_1.shape[0]"
      ],
      "metadata": {
        "colab": {
          "base_uri": "https://localhost:8080/"
        },
        "id": "uUAXfgocFTgg",
        "outputId": "378f6377-88cf-4235-a08b-848c02f170bb"
      },
      "execution_count": null,
      "outputs": [
        {
          "output_type": "execute_result",
          "data": {
            "text/plain": [
              "1097"
            ]
          },
          "metadata": {},
          "execution_count": 51
        }
      ]
    },
    {
      "cell_type": "markdown",
      "source": [
        "### Question-2"
      ],
      "metadata": {
        "id": "UiFjyYbJu81c"
      }
    },
    {
      "cell_type": "code",
      "source": [
        "raw_data_1"
      ],
      "metadata": {
        "colab": {
          "base_uri": "https://localhost:8080/",
          "height": 423
        },
        "id": "pI7kSH7bJmva",
        "outputId": "07352416-f413-41a4-e50b-e3ca5ccc7dea"
      },
      "execution_count": null,
      "outputs": [
        {
          "output_type": "execute_result",
          "data": {
            "text/plain": [
              "      label        id  fea_1   fea_2  fea_3     fea_4  fea_5  fea_6  fea_7  \\\n",
              "0       0.0  59004779    4.0  1277.0    1.0  113000.0    2.0    8.0   -1.0   \n",
              "1       0.0  58990862    7.0  1298.0    1.0  110000.0    2.0   11.0   -1.0   \n",
              "2       1.0  58995168    7.0  1335.5    1.0  151000.0    2.0   11.0    5.0   \n",
              "3       0.0  54987320    7.0     NaN    2.0   59000.0    2.0   11.0    5.0   \n",
              "4       0.0  59005995    6.0  1217.0    3.0   56000.0    2.0    6.0   -1.0   \n",
              "...     ...       ...    ...     ...    ...       ...    ...    ...    ...   \n",
              "1119    0.0  58988196    5.0  1289.0    1.0  173000.0    2.0   15.0    5.0   \n",
              "1120    0.0  58987926    5.0     NaN    2.0   50000.0    2.0   15.0    5.0   \n",
              "1121    0.0  58995381    7.0  1220.0    3.0   76000.0    2.0   11.0    2.0   \n",
              "1122    0.0  58998054    4.0  1250.0    3.0  137000.0    2.0    8.0    5.0   \n",
              "1123    0.0  54989781    4.0  1415.0    3.0   93000.0    2.0    8.0    5.0   \n",
              "\n",
              "      fea_8  fea_9    fea_10      fea_11  \n",
              "0     100.0    3.0  341759.0  207.173840  \n",
              "1     101.0    5.0   72001.0         NaN  \n",
              "2     110.0    3.0   60084.0         NaN  \n",
              "3     108.0    4.0  450081.0  197.403141  \n",
              "4     100.0    3.0   60091.0         NaN  \n",
              "...     ...    ...       ...         ...  \n",
              "1119  112.0    3.0  350702.0         NaN  \n",
              "1120  108.0    4.0  450000.0         NaN  \n",
              "1121   90.0    5.0   71002.0         NaN  \n",
              "1122   90.0    5.0   72000.0         NaN  \n",
              "1123  113.0    4.0  151300.0         NaN  \n",
              "\n",
              "[1097 rows x 13 columns]"
            ],
            "text/html": [
              "\n",
              "  <div id=\"df-113ed85d-92d3-4d5e-ac25-a343153a2dd9\">\n",
              "    <div class=\"colab-df-container\">\n",
              "      <div>\n",
              "<style scoped>\n",
              "    .dataframe tbody tr th:only-of-type {\n",
              "        vertical-align: middle;\n",
              "    }\n",
              "\n",
              "    .dataframe tbody tr th {\n",
              "        vertical-align: top;\n",
              "    }\n",
              "\n",
              "    .dataframe thead th {\n",
              "        text-align: right;\n",
              "    }\n",
              "</style>\n",
              "<table border=\"1\" class=\"dataframe\">\n",
              "  <thead>\n",
              "    <tr style=\"text-align: right;\">\n",
              "      <th></th>\n",
              "      <th>label</th>\n",
              "      <th>id</th>\n",
              "      <th>fea_1</th>\n",
              "      <th>fea_2</th>\n",
              "      <th>fea_3</th>\n",
              "      <th>fea_4</th>\n",
              "      <th>fea_5</th>\n",
              "      <th>fea_6</th>\n",
              "      <th>fea_7</th>\n",
              "      <th>fea_8</th>\n",
              "      <th>fea_9</th>\n",
              "      <th>fea_10</th>\n",
              "      <th>fea_11</th>\n",
              "    </tr>\n",
              "  </thead>\n",
              "  <tbody>\n",
              "    <tr>\n",
              "      <th>0</th>\n",
              "      <td>0.0</td>\n",
              "      <td>59004779</td>\n",
              "      <td>4.0</td>\n",
              "      <td>1277.0</td>\n",
              "      <td>1.0</td>\n",
              "      <td>113000.0</td>\n",
              "      <td>2.0</td>\n",
              "      <td>8.0</td>\n",
              "      <td>-1.0</td>\n",
              "      <td>100.0</td>\n",
              "      <td>3.0</td>\n",
              "      <td>341759.0</td>\n",
              "      <td>207.173840</td>\n",
              "    </tr>\n",
              "    <tr>\n",
              "      <th>1</th>\n",
              "      <td>0.0</td>\n",
              "      <td>58990862</td>\n",
              "      <td>7.0</td>\n",
              "      <td>1298.0</td>\n",
              "      <td>1.0</td>\n",
              "      <td>110000.0</td>\n",
              "      <td>2.0</td>\n",
              "      <td>11.0</td>\n",
              "      <td>-1.0</td>\n",
              "      <td>101.0</td>\n",
              "      <td>5.0</td>\n",
              "      <td>72001.0</td>\n",
              "      <td>NaN</td>\n",
              "    </tr>\n",
              "    <tr>\n",
              "      <th>2</th>\n",
              "      <td>1.0</td>\n",
              "      <td>58995168</td>\n",
              "      <td>7.0</td>\n",
              "      <td>1335.5</td>\n",
              "      <td>1.0</td>\n",
              "      <td>151000.0</td>\n",
              "      <td>2.0</td>\n",
              "      <td>11.0</td>\n",
              "      <td>5.0</td>\n",
              "      <td>110.0</td>\n",
              "      <td>3.0</td>\n",
              "      <td>60084.0</td>\n",
              "      <td>NaN</td>\n",
              "    </tr>\n",
              "    <tr>\n",
              "      <th>3</th>\n",
              "      <td>0.0</td>\n",
              "      <td>54987320</td>\n",
              "      <td>7.0</td>\n",
              "      <td>NaN</td>\n",
              "      <td>2.0</td>\n",
              "      <td>59000.0</td>\n",
              "      <td>2.0</td>\n",
              "      <td>11.0</td>\n",
              "      <td>5.0</td>\n",
              "      <td>108.0</td>\n",
              "      <td>4.0</td>\n",
              "      <td>450081.0</td>\n",
              "      <td>197.403141</td>\n",
              "    </tr>\n",
              "    <tr>\n",
              "      <th>4</th>\n",
              "      <td>0.0</td>\n",
              "      <td>59005995</td>\n",
              "      <td>6.0</td>\n",
              "      <td>1217.0</td>\n",
              "      <td>3.0</td>\n",
              "      <td>56000.0</td>\n",
              "      <td>2.0</td>\n",
              "      <td>6.0</td>\n",
              "      <td>-1.0</td>\n",
              "      <td>100.0</td>\n",
              "      <td>3.0</td>\n",
              "      <td>60091.0</td>\n",
              "      <td>NaN</td>\n",
              "    </tr>\n",
              "    <tr>\n",
              "      <th>...</th>\n",
              "      <td>...</td>\n",
              "      <td>...</td>\n",
              "      <td>...</td>\n",
              "      <td>...</td>\n",
              "      <td>...</td>\n",
              "      <td>...</td>\n",
              "      <td>...</td>\n",
              "      <td>...</td>\n",
              "      <td>...</td>\n",
              "      <td>...</td>\n",
              "      <td>...</td>\n",
              "      <td>...</td>\n",
              "      <td>...</td>\n",
              "    </tr>\n",
              "    <tr>\n",
              "      <th>1119</th>\n",
              "      <td>0.0</td>\n",
              "      <td>58988196</td>\n",
              "      <td>5.0</td>\n",
              "      <td>1289.0</td>\n",
              "      <td>1.0</td>\n",
              "      <td>173000.0</td>\n",
              "      <td>2.0</td>\n",
              "      <td>15.0</td>\n",
              "      <td>5.0</td>\n",
              "      <td>112.0</td>\n",
              "      <td>3.0</td>\n",
              "      <td>350702.0</td>\n",
              "      <td>NaN</td>\n",
              "    </tr>\n",
              "    <tr>\n",
              "      <th>1120</th>\n",
              "      <td>0.0</td>\n",
              "      <td>58987926</td>\n",
              "      <td>5.0</td>\n",
              "      <td>NaN</td>\n",
              "      <td>2.0</td>\n",
              "      <td>50000.0</td>\n",
              "      <td>2.0</td>\n",
              "      <td>15.0</td>\n",
              "      <td>5.0</td>\n",
              "      <td>108.0</td>\n",
              "      <td>4.0</td>\n",
              "      <td>450000.0</td>\n",
              "      <td>NaN</td>\n",
              "    </tr>\n",
              "    <tr>\n",
              "      <th>1121</th>\n",
              "      <td>0.0</td>\n",
              "      <td>58995381</td>\n",
              "      <td>7.0</td>\n",
              "      <td>1220.0</td>\n",
              "      <td>3.0</td>\n",
              "      <td>76000.0</td>\n",
              "      <td>2.0</td>\n",
              "      <td>11.0</td>\n",
              "      <td>2.0</td>\n",
              "      <td>90.0</td>\n",
              "      <td>5.0</td>\n",
              "      <td>71002.0</td>\n",
              "      <td>NaN</td>\n",
              "    </tr>\n",
              "    <tr>\n",
              "      <th>1122</th>\n",
              "      <td>0.0</td>\n",
              "      <td>58998054</td>\n",
              "      <td>4.0</td>\n",
              "      <td>1250.0</td>\n",
              "      <td>3.0</td>\n",
              "      <td>137000.0</td>\n",
              "      <td>2.0</td>\n",
              "      <td>8.0</td>\n",
              "      <td>5.0</td>\n",
              "      <td>90.0</td>\n",
              "      <td>5.0</td>\n",
              "      <td>72000.0</td>\n",
              "      <td>NaN</td>\n",
              "    </tr>\n",
              "    <tr>\n",
              "      <th>1123</th>\n",
              "      <td>0.0</td>\n",
              "      <td>54989781</td>\n",
              "      <td>4.0</td>\n",
              "      <td>1415.0</td>\n",
              "      <td>3.0</td>\n",
              "      <td>93000.0</td>\n",
              "      <td>2.0</td>\n",
              "      <td>8.0</td>\n",
              "      <td>5.0</td>\n",
              "      <td>113.0</td>\n",
              "      <td>4.0</td>\n",
              "      <td>151300.0</td>\n",
              "      <td>NaN</td>\n",
              "    </tr>\n",
              "  </tbody>\n",
              "</table>\n",
              "<p>1097 rows × 13 columns</p>\n",
              "</div>\n",
              "      <button class=\"colab-df-convert\" onclick=\"convertToInteractive('df-113ed85d-92d3-4d5e-ac25-a343153a2dd9')\"\n",
              "              title=\"Convert this dataframe to an interactive table.\"\n",
              "              style=\"display:none;\">\n",
              "        \n",
              "  <svg xmlns=\"http://www.w3.org/2000/svg\" height=\"24px\"viewBox=\"0 0 24 24\"\n",
              "       width=\"24px\">\n",
              "    <path d=\"M0 0h24v24H0V0z\" fill=\"none\"/>\n",
              "    <path d=\"M18.56 5.44l.94 2.06.94-2.06 2.06-.94-2.06-.94-.94-2.06-.94 2.06-2.06.94zm-11 1L8.5 8.5l.94-2.06 2.06-.94-2.06-.94L8.5 2.5l-.94 2.06-2.06.94zm10 10l.94 2.06.94-2.06 2.06-.94-2.06-.94-.94-2.06-.94 2.06-2.06.94z\"/><path d=\"M17.41 7.96l-1.37-1.37c-.4-.4-.92-.59-1.43-.59-.52 0-1.04.2-1.43.59L10.3 9.45l-7.72 7.72c-.78.78-.78 2.05 0 2.83L4 21.41c.39.39.9.59 1.41.59.51 0 1.02-.2 1.41-.59l7.78-7.78 2.81-2.81c.8-.78.8-2.07 0-2.86zM5.41 20L4 18.59l7.72-7.72 1.47 1.35L5.41 20z\"/>\n",
              "  </svg>\n",
              "      </button>\n",
              "      \n",
              "  <style>\n",
              "    .colab-df-container {\n",
              "      display:flex;\n",
              "      flex-wrap:wrap;\n",
              "      gap: 12px;\n",
              "    }\n",
              "\n",
              "    .colab-df-convert {\n",
              "      background-color: #E8F0FE;\n",
              "      border: none;\n",
              "      border-radius: 50%;\n",
              "      cursor: pointer;\n",
              "      display: none;\n",
              "      fill: #1967D2;\n",
              "      height: 32px;\n",
              "      padding: 0 0 0 0;\n",
              "      width: 32px;\n",
              "    }\n",
              "\n",
              "    .colab-df-convert:hover {\n",
              "      background-color: #E2EBFA;\n",
              "      box-shadow: 0px 1px 2px rgba(60, 64, 67, 0.3), 0px 1px 3px 1px rgba(60, 64, 67, 0.15);\n",
              "      fill: #174EA6;\n",
              "    }\n",
              "\n",
              "    [theme=dark] .colab-df-convert {\n",
              "      background-color: #3B4455;\n",
              "      fill: #D2E3FC;\n",
              "    }\n",
              "\n",
              "    [theme=dark] .colab-df-convert:hover {\n",
              "      background-color: #434B5C;\n",
              "      box-shadow: 0px 1px 3px 1px rgba(0, 0, 0, 0.15);\n",
              "      filter: drop-shadow(0px 1px 2px rgba(0, 0, 0, 0.3));\n",
              "      fill: #FFFFFF;\n",
              "    }\n",
              "  </style>\n",
              "\n",
              "      <script>\n",
              "        const buttonEl =\n",
              "          document.querySelector('#df-113ed85d-92d3-4d5e-ac25-a343153a2dd9 button.colab-df-convert');\n",
              "        buttonEl.style.display =\n",
              "          google.colab.kernel.accessAllowed ? 'block' : 'none';\n",
              "\n",
              "        async function convertToInteractive(key) {\n",
              "          const element = document.querySelector('#df-113ed85d-92d3-4d5e-ac25-a343153a2dd9');\n",
              "          const dataTable =\n",
              "            await google.colab.kernel.invokeFunction('convertToInteractive',\n",
              "                                                     [key], {});\n",
              "          if (!dataTable) return;\n",
              "\n",
              "          const docLinkHtml = 'Like what you see? Visit the ' +\n",
              "            '<a target=\"_blank\" href=https://colab.research.google.com/notebooks/data_table.ipynb>data table notebook</a>'\n",
              "            + ' to learn more about interactive tables.';\n",
              "          element.innerHTML = '';\n",
              "          dataTable['output_type'] = 'display_data';\n",
              "          await google.colab.output.renderOutput(dataTable, element);\n",
              "          const docLink = document.createElement('div');\n",
              "          docLink.innerHTML = docLinkHtml;\n",
              "          element.appendChild(docLink);\n",
              "        }\n",
              "      </script>\n",
              "    </div>\n",
              "  </div>\n",
              "  "
            ]
          },
          "metadata": {},
          "execution_count": 52
        }
      ]
    },
    {
      "cell_type": "code",
      "source": [
        "missing_percent = raw_data_1.isnull().sum() / len(raw_data_1) * 100"
      ],
      "metadata": {
        "id": "Go6M8Fz4uBw9"
      },
      "execution_count": null,
      "outputs": []
    },
    {
      "cell_type": "code",
      "source": [
        "features_to_remove = missing_percent[missing_percent > 50].index\n",
        "raw_data_1.drop(columns=features_to_remove, inplace=True)"
      ],
      "metadata": {
        "id": "VEcaXTkuI2rZ"
      },
      "execution_count": null,
      "outputs": []
    },
    {
      "cell_type": "code",
      "source": [
        "mean_values = raw_data_1.mean()"
      ],
      "metadata": {
        "id": "lAFFO6rUJaEU"
      },
      "execution_count": null,
      "outputs": []
    },
    {
      "cell_type": "code",
      "source": [
        "raw_data_1.fillna(mean_values, inplace=True)"
      ],
      "metadata": {
        "id": "sLjBuYUkJ2IO"
      },
      "execution_count": null,
      "outputs": []
    },
    {
      "cell_type": "code",
      "source": [
        "data=raw_data_1"
      ],
      "metadata": {
        "id": "ijV5715IK-N5"
      },
      "execution_count": null,
      "outputs": []
    },
    {
      "cell_type": "code",
      "source": [
        "if len(features_to_remove) > 0:\n",
        "    print(\"Removed features:\", features_to_remove)\n",
        "else:\n",
        "    print(\"No features were removed.\")"
      ],
      "metadata": {
        "colab": {
          "base_uri": "https://localhost:8080/"
        },
        "id": "45SJ97qKKHGH",
        "outputId": "3adbaf7b-7bce-47ac-c1d7-d95e4f989ae2"
      },
      "execution_count": null,
      "outputs": [
        {
          "output_type": "stream",
          "name": "stdout",
          "text": [
            "Removed features: Index(['fea_11'], dtype='object')\n"
          ]
        }
      ]
    },
    {
      "cell_type": "code",
      "source": [
        "feature_std = raw_data_1.std()"
      ],
      "metadata": {
        "id": "aII81JcmKMP1"
      },
      "execution_count": null,
      "outputs": []
    },
    {
      "cell_type": "code",
      "source": [
        "print(feature_std[2:])"
      ],
      "metadata": {
        "colab": {
          "base_uri": "https://localhost:8080/"
        },
        "id": "5wpKbm4nKiAB",
        "outputId": "54ea1923-d68f-4f4c-a831-2f557cd2e316"
      },
      "execution_count": null,
      "outputs": [
        {
          "output_type": "stream",
          "name": "stdout",
          "text": [
            "fea_1          1.378805\n",
            "fea_2         48.175327\n",
            "fea_3          0.877125\n",
            "fea_4      89184.777608\n",
            "fea_5          0.260115\n",
            "fea_6          2.673755\n",
            "fea_7          2.967936\n",
            "fea_8         11.966510\n",
            "fea_9          0.857154\n",
            "fea_10    152382.072552\n",
            "dtype: float64\n"
          ]
        }
      ]
    },
    {
      "cell_type": "markdown",
      "source": [
        "# Training: Decision Trees"
      ],
      "metadata": {
        "id": "4Za8iUQ2ukoU"
      }
    },
    {
      "cell_type": "code",
      "source": [
        "train_data = pd.read_csv('customer_data_train.csv')\n",
        "train_labels = pd.read_csv('customer_data_train_labels.csv')\n",
        "val_data =  pd.read_csv('customer_data_valid.csv')\n",
        "val_labels = pd.read_csv('customer_data_valid_labels.csv')\n",
        "test_data = pd.read_csv('customer_data_test.csv')\n",
        "test_labels = pd.read_csv('customer_data_test_labels.csv')"
      ],
      "metadata": {
        "id": "LJOhHIlpuhoA"
      },
      "execution_count": null,
      "outputs": []
    },
    {
      "cell_type": "markdown",
      "source": [
        "#### Question-3"
      ],
      "metadata": {
        "id": "zTkZ33geu_XZ"
      }
    },
    {
      "cell_type": "code",
      "source": [
        "from sklearn.tree import DecisionTreeClassifier\n",
        "from sklearn.model_selection import train_test_split\n",
        "from sklearn.metrics import accuracy_score"
      ],
      "metadata": {
        "id": "3qohFF5dLfXw"
      },
      "execution_count": null,
      "outputs": []
    },
    {
      "cell_type": "code",
      "source": [
        "gini_model = DecisionTreeClassifier(criterion='gini')\n",
        "entropy_model = DecisionTreeClassifier(criterion='entropy')"
      ],
      "metadata": {
        "id": "UzfcIrD0LIL6"
      },
      "execution_count": null,
      "outputs": []
    },
    {
      "cell_type": "code",
      "source": [
        "gini_model.fit(train_data.iloc[:,1:], train_labels.iloc[:,1:])\n",
        "entropy_model.fit(train_data.iloc[:,1:], train_labels.iloc[:,1:])"
      ],
      "metadata": {
        "colab": {
          "base_uri": "https://localhost:8080/",
          "height": 74
        },
        "id": "xqhQW6AJLiBt",
        "outputId": "fa5ed6a8-202f-4343-a8c4-b5bf86b0dab6"
      },
      "execution_count": null,
      "outputs": [
        {
          "output_type": "execute_result",
          "data": {
            "text/plain": [
              "DecisionTreeClassifier(criterion='entropy')"
            ],
            "text/html": [
              "<style>#sk-container-id-8 {color: black;background-color: white;}#sk-container-id-8 pre{padding: 0;}#sk-container-id-8 div.sk-toggleable {background-color: white;}#sk-container-id-8 label.sk-toggleable__label {cursor: pointer;display: block;width: 100%;margin-bottom: 0;padding: 0.3em;box-sizing: border-box;text-align: center;}#sk-container-id-8 label.sk-toggleable__label-arrow:before {content: \"▸\";float: left;margin-right: 0.25em;color: #696969;}#sk-container-id-8 label.sk-toggleable__label-arrow:hover:before {color: black;}#sk-container-id-8 div.sk-estimator:hover label.sk-toggleable__label-arrow:before {color: black;}#sk-container-id-8 div.sk-toggleable__content {max-height: 0;max-width: 0;overflow: hidden;text-align: left;background-color: #f0f8ff;}#sk-container-id-8 div.sk-toggleable__content pre {margin: 0.2em;color: black;border-radius: 0.25em;background-color: #f0f8ff;}#sk-container-id-8 input.sk-toggleable__control:checked~div.sk-toggleable__content {max-height: 200px;max-width: 100%;overflow: auto;}#sk-container-id-8 input.sk-toggleable__control:checked~label.sk-toggleable__label-arrow:before {content: \"▾\";}#sk-container-id-8 div.sk-estimator input.sk-toggleable__control:checked~label.sk-toggleable__label {background-color: #d4ebff;}#sk-container-id-8 div.sk-label input.sk-toggleable__control:checked~label.sk-toggleable__label {background-color: #d4ebff;}#sk-container-id-8 input.sk-hidden--visually {border: 0;clip: rect(1px 1px 1px 1px);clip: rect(1px, 1px, 1px, 1px);height: 1px;margin: -1px;overflow: hidden;padding: 0;position: absolute;width: 1px;}#sk-container-id-8 div.sk-estimator {font-family: monospace;background-color: #f0f8ff;border: 1px dotted black;border-radius: 0.25em;box-sizing: border-box;margin-bottom: 0.5em;}#sk-container-id-8 div.sk-estimator:hover {background-color: #d4ebff;}#sk-container-id-8 div.sk-parallel-item::after {content: \"\";width: 100%;border-bottom: 1px solid gray;flex-grow: 1;}#sk-container-id-8 div.sk-label:hover label.sk-toggleable__label {background-color: #d4ebff;}#sk-container-id-8 div.sk-serial::before {content: \"\";position: absolute;border-left: 1px solid gray;box-sizing: border-box;top: 0;bottom: 0;left: 50%;z-index: 0;}#sk-container-id-8 div.sk-serial {display: flex;flex-direction: column;align-items: center;background-color: white;padding-right: 0.2em;padding-left: 0.2em;position: relative;}#sk-container-id-8 div.sk-item {position: relative;z-index: 1;}#sk-container-id-8 div.sk-parallel {display: flex;align-items: stretch;justify-content: center;background-color: white;position: relative;}#sk-container-id-8 div.sk-item::before, #sk-container-id-8 div.sk-parallel-item::before {content: \"\";position: absolute;border-left: 1px solid gray;box-sizing: border-box;top: 0;bottom: 0;left: 50%;z-index: -1;}#sk-container-id-8 div.sk-parallel-item {display: flex;flex-direction: column;z-index: 1;position: relative;background-color: white;}#sk-container-id-8 div.sk-parallel-item:first-child::after {align-self: flex-end;width: 50%;}#sk-container-id-8 div.sk-parallel-item:last-child::after {align-self: flex-start;width: 50%;}#sk-container-id-8 div.sk-parallel-item:only-child::after {width: 0;}#sk-container-id-8 div.sk-dashed-wrapped {border: 1px dashed gray;margin: 0 0.4em 0.5em 0.4em;box-sizing: border-box;padding-bottom: 0.4em;background-color: white;}#sk-container-id-8 div.sk-label label {font-family: monospace;font-weight: bold;display: inline-block;line-height: 1.2em;}#sk-container-id-8 div.sk-label-container {text-align: center;}#sk-container-id-8 div.sk-container {/* jupyter's `normalize.less` sets `[hidden] { display: none; }` but bootstrap.min.css set `[hidden] { display: none !important; }` so we also need the `!important` here to be able to override the default hidden behavior on the sphinx rendered scikit-learn.org. See: https://github.com/scikit-learn/scikit-learn/issues/21755 */display: inline-block !important;position: relative;}#sk-container-id-8 div.sk-text-repr-fallback {display: none;}</style><div id=\"sk-container-id-8\" class=\"sk-top-container\"><div class=\"sk-text-repr-fallback\"><pre>DecisionTreeClassifier(criterion=&#x27;entropy&#x27;)</pre><b>In a Jupyter environment, please rerun this cell to show the HTML representation or trust the notebook. <br />On GitHub, the HTML representation is unable to render, please try loading this page with nbviewer.org.</b></div><div class=\"sk-container\" hidden><div class=\"sk-item\"><div class=\"sk-estimator sk-toggleable\"><input class=\"sk-toggleable__control sk-hidden--visually\" id=\"sk-estimator-id-8\" type=\"checkbox\" checked><label for=\"sk-estimator-id-8\" class=\"sk-toggleable__label sk-toggleable__label-arrow\">DecisionTreeClassifier</label><div class=\"sk-toggleable__content\"><pre>DecisionTreeClassifier(criterion=&#x27;entropy&#x27;)</pre></div></div></div></div></div>"
            ]
          },
          "metadata": {},
          "execution_count": 148
        }
      ]
    },
    {
      "cell_type": "code",
      "source": [
        "y_pred_gini = gini_model.predict(val_data.iloc[:,1:])\n",
        "y_pred_entropy = entropy_model.predict(val_data.iloc[:,1:])"
      ],
      "metadata": {
        "id": "M16TkBQwLri1"
      },
      "execution_count": null,
      "outputs": []
    },
    {
      "cell_type": "code",
      "source": [
        "c=np.array(val_labels)[:,1]\n",
        "d=y_pred_gini\n",
        "e=y_pred_entropy"
      ],
      "metadata": {
        "id": "BHUovWb2UDdR"
      },
      "execution_count": null,
      "outputs": []
    },
    {
      "cell_type": "code",
      "source": [
        "print ('gini val test accuracy = ' + str(accuracy_score(c, d)))"
      ],
      "metadata": {
        "colab": {
          "base_uri": "https://localhost:8080/"
        },
        "id": "N4XYsvlhPzzj",
        "outputId": "732a4797-27b0-4565-b394-53bacaba94f7"
      },
      "execution_count": null,
      "outputs": [
        {
          "output_type": "stream",
          "name": "stdout",
          "text": [
            "gini val test accuracy = 0.6647727272727273\n"
          ]
        }
      ]
    },
    {
      "cell_type": "code",
      "source": [
        "print ('entropy val test accuracy = ' + str(accuracy_score(c,e)))"
      ],
      "metadata": {
        "id": "kPO9FDRVUXue",
        "outputId": "5c1cdedf-1eef-40e3-b95e-e03750505c82",
        "colab": {
          "base_uri": "https://localhost:8080/"
        }
      },
      "execution_count": null,
      "outputs": [
        {
          "output_type": "stream",
          "name": "stdout",
          "text": [
            "entropy val test accuracy = 0.6477272727272727\n"
          ]
        }
      ]
    },
    {
      "cell_type": "markdown",
      "source": [
        "Gini is the better criterion."
      ],
      "metadata": {
        "id": "So4xxSkzXfHP"
      }
    },
    {
      "cell_type": "markdown",
      "source": [
        "#### Question-4"
      ],
      "metadata": {
        "id": "QqALsJHwvFRl"
      }
    },
    {
      "cell_type": "code",
      "source": [],
      "metadata": {
        "id": "xD7sJCDkuysu"
      },
      "execution_count": null,
      "outputs": []
    },
    {
      "cell_type": "markdown",
      "source": [
        "#### Question-5"
      ],
      "metadata": {
        "id": "U1yj7kiTvP6t"
      }
    },
    {
      "cell_type": "code",
      "source": [],
      "metadata": {
        "id": "Uhsp6J9tu3Wq"
      },
      "execution_count": null,
      "outputs": []
    },
    {
      "cell_type": "markdown",
      "source": [
        "# Evaluation: Decision Trees"
      ],
      "metadata": {
        "id": "3xg30snova9A"
      }
    },
    {
      "cell_type": "markdown",
      "source": [
        "#### Question-6"
      ],
      "metadata": {
        "id": "0G20No7HvSXo"
      }
    },
    {
      "cell_type": "code",
      "source": [],
      "metadata": {
        "id": "7Doi2jg-vUhN"
      },
      "execution_count": null,
      "outputs": []
    },
    {
      "cell_type": "markdown",
      "source": [
        "# Training: kNN "
      ],
      "metadata": {
        "id": "I3vEehn3veyf"
      }
    },
    {
      "cell_type": "code",
      "source": [],
      "metadata": {
        "id": "uxJmNudTvvxe"
      },
      "execution_count": null,
      "outputs": []
    },
    {
      "cell_type": "markdown",
      "source": [
        "#### Question-7"
      ],
      "metadata": {
        "id": "biYNoMl7v2ug"
      }
    },
    {
      "cell_type": "code",
      "source": [],
      "metadata": {
        "id": "skuSae76v1u_"
      },
      "execution_count": null,
      "outputs": []
    },
    {
      "cell_type": "markdown",
      "source": [
        "#### Question-8"
      ],
      "metadata": {
        "id": "CKABEK6Gv5qa"
      }
    },
    {
      "cell_type": "code",
      "source": [],
      "metadata": {
        "id": "CZo52Hywv7GF"
      },
      "execution_count": null,
      "outputs": []
    },
    {
      "cell_type": "markdown",
      "source": [
        "#### Question-9"
      ],
      "metadata": {
        "id": "4Z9TD_TTv8fe"
      }
    },
    {
      "cell_type": "code",
      "source": [],
      "metadata": {
        "id": "FCmVN4WCv-Ry"
      },
      "execution_count": null,
      "outputs": []
    },
    {
      "cell_type": "markdown",
      "source": [
        "#### Question-10"
      ],
      "metadata": {
        "id": "i_c_dvrWv-vd"
      }
    },
    {
      "cell_type": "code",
      "source": [],
      "metadata": {
        "id": "k2gVPCmnwDyj"
      },
      "execution_count": null,
      "outputs": []
    },
    {
      "cell_type": "markdown",
      "source": [
        "# Evaluation: kNN"
      ],
      "metadata": {
        "id": "dzPH8iJ9wTUv"
      }
    },
    {
      "cell_type": "markdown",
      "source": [
        "#### Question-11"
      ],
      "metadata": {
        "id": "x1KNmTrjxU5w"
      }
    },
    {
      "cell_type": "code",
      "source": [],
      "metadata": {
        "id": "V77T2vlHwV4K"
      },
      "execution_count": null,
      "outputs": []
    }
  ]
}